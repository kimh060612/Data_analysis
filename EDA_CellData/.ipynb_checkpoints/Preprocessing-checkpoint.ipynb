{
 "cells": [
  {
   "cell_type": "code",
   "execution_count": 2,
   "id": "hundred-infrared",
   "metadata": {},
   "outputs": [],
   "source": [
    "import pandas as pd\n",
    "import numpy as np\n",
    "import os"
   ]
  },
  {
   "cell_type": "code",
   "execution_count": 10,
   "id": "hourly-feedback",
   "metadata": {},
   "outputs": [],
   "source": [
    "listImage = os.listdir(os.path.abspath('/data/CellData/train/'))\n",
    "GTList = pd.read_csv(os.path.abspath('/data/CellData/train.csv'))"
   ]
  },
  {
   "cell_type": "code",
   "execution_count": 16,
   "id": "loaded-diversity",
   "metadata": {},
   "outputs": [
    {
     "name": "stdout",
     "output_type": "stream",
     "text": [
      "                                         ID  Label\n",
      "0      5c27f04c-bb99-11e8-b2b9-ac1f6b6435d0  8|5|0\n",
      "1      5fb643ee-bb99-11e8-b2b9-ac1f6b6435d0   14|0\n",
      "2      60b57878-bb99-11e8-b2b9-ac1f6b6435d0    6|1\n",
      "3      5c1a898e-bb99-11e8-b2b9-ac1f6b6435d0  16|10\n",
      "4      5b931256-bb99-11e8-b2b9-ac1f6b6435d0   14|0\n",
      "...                                     ...    ...\n",
      "21801  dd0989c4-bbca-11e8-b2bc-ac1f6b6435d0     14\n",
      "21802  dd1f7fb8-bbca-11e8-b2bc-ac1f6b6435d0    3|0\n",
      "21803  dd5cb36a-bbca-11e8-b2bc-ac1f6b6435d0   14|0\n",
      "21804  df573730-bbca-11e8-b2bc-ac1f6b6435d0     14\n",
      "21805  dea19dc6-bbca-11e8-b2bc-ac1f6b6435d0    5|0\n",
      "\n",
      "[21806 rows x 2 columns]\n"
     ]
    }
   ],
   "source": [
    "print(GTList)"
   ]
  },
  {
   "cell_type": "code",
   "execution_count": 18,
   "id": "golden-justice",
   "metadata": {},
   "outputs": [],
   "source": [
    "def oneHotEncoding(label):\n",
    "    OH = np.zeros(19)\n",
    "    for con in label:\n",
    "        OH[con] = 1\n",
    "    return OH"
   ]
  },
  {
   "cell_type": "code",
   "execution_count": 20,
   "id": "pregnant-grace",
   "metadata": {},
   "outputs": [
    {
     "name": "stdout",
     "output_type": "stream",
     "text": [
      "[[1. 0. 0. ... 0. 0. 0.]\n",
      " [1. 0. 0. ... 0. 0. 0.]\n",
      " [0. 1. 0. ... 0. 0. 0.]\n",
      " ...\n",
      " [1. 0. 0. ... 0. 0. 0.]\n",
      " [0. 0. 0. ... 0. 0. 0.]\n",
      " [1. 0. 0. ... 0. 0. 0.]]\n",
      "(21806, 19)\n"
     ]
    }
   ],
   "source": [
    "N = len(GTList)\n",
    "\n",
    "oneHotEmbedding = []\n",
    "for i in range(N):\n",
    "    labels = GTList['Label'][i]\n",
    "    labels = labels.split('|')\n",
    "    labels = [ int(x) for x in labels ]\n",
    "    labels = oneHotEncoding(labels)\n",
    "    oneHotEmbedding.append(labels)\n",
    "oneHotEmbedding = np.array(oneHotEmbedding)\n",
    "print(oneHotEmbedding)\n",
    "print(oneHotEmbedding.shape)"
   ]
  },
  {
   "cell_type": "code",
   "execution_count": 21,
   "id": "instrumental-spoke",
   "metadata": {},
   "outputs": [
    {
     "ename": "ImportError",
     "evalue": "libGL.so.1: cannot open shared object file: No such file or directory",
     "output_type": "error",
     "traceback": [
      "\u001b[0;31m---------------------------------------------------------------------------\u001b[0m",
      "\u001b[0;31mImportError\u001b[0m                               Traceback (most recent call last)",
      "\u001b[0;32m<ipython-input-21-6c8e72ac4836>\u001b[0m in \u001b[0;36m<module>\u001b[0;34m\u001b[0m\n\u001b[0;32m----> 1\u001b[0;31m \u001b[0;32mimport\u001b[0m \u001b[0mcv2\u001b[0m\u001b[0;34m\u001b[0m\u001b[0;34m\u001b[0m\u001b[0m\n\u001b[0m\u001b[1;32m      2\u001b[0m \u001b[0;34m\u001b[0m\u001b[0m\n\u001b[1;32m      3\u001b[0m \u001b[0mimageType\u001b[0m \u001b[0;34m=\u001b[0m \u001b[0;34m[\u001b[0m\u001b[0;34m'red'\u001b[0m\u001b[0;34m,\u001b[0m \u001b[0;34m'green'\u001b[0m\u001b[0;34m,\u001b[0m \u001b[0;34m'blue'\u001b[0m\u001b[0;34m,\u001b[0m \u001b[0;34m'yellow'\u001b[0m\u001b[0;34m]\u001b[0m\u001b[0;34m\u001b[0m\u001b[0;34m\u001b[0m\u001b[0m\n\u001b[1;32m      4\u001b[0m \u001b[0mImagePath\u001b[0m \u001b[0;34m=\u001b[0m \u001b[0mos\u001b[0m\u001b[0;34m.\u001b[0m\u001b[0mpath\u001b[0m\u001b[0;34m.\u001b[0m\u001b[0mabspath\u001b[0m\u001b[0;34m(\u001b[0m\u001b[0;34m'/data/CellData/train'\u001b[0m\u001b[0;34m)\u001b[0m\u001b[0;34m\u001b[0m\u001b[0;34m\u001b[0m\u001b[0m\n\u001b[1;32m      5\u001b[0m \u001b[0;34m\u001b[0m\u001b[0m\n",
      "\u001b[0;32m/usr/local/lib/python3.6/dist-packages/cv2/__init__.py\u001b[0m in \u001b[0;36m<module>\u001b[0;34m\u001b[0m\n\u001b[1;32m      3\u001b[0m \u001b[0;32mimport\u001b[0m \u001b[0msys\u001b[0m\u001b[0;34m\u001b[0m\u001b[0;34m\u001b[0m\u001b[0m\n\u001b[1;32m      4\u001b[0m \u001b[0;34m\u001b[0m\u001b[0m\n\u001b[0;32m----> 5\u001b[0;31m \u001b[0;32mfrom\u001b[0m \u001b[0;34m.\u001b[0m\u001b[0mcv2\u001b[0m \u001b[0;32mimport\u001b[0m \u001b[0;34m*\u001b[0m\u001b[0;34m\u001b[0m\u001b[0;34m\u001b[0m\u001b[0m\n\u001b[0m\u001b[1;32m      6\u001b[0m \u001b[0;32mfrom\u001b[0m \u001b[0;34m.\u001b[0m\u001b[0mdata\u001b[0m \u001b[0;32mimport\u001b[0m \u001b[0;34m*\u001b[0m\u001b[0;34m\u001b[0m\u001b[0;34m\u001b[0m\u001b[0m\n\u001b[1;32m      7\u001b[0m \u001b[0;34m\u001b[0m\u001b[0m\n",
      "\u001b[0;31mImportError\u001b[0m: libGL.so.1: cannot open shared object file: No such file or directory"
     ]
    }
   ],
   "source": [
    "from PIL import Image\n",
    "\n",
    "imageType = ['red', 'green', 'blue', 'yellow']\n",
    "ImagePath = os.path.abspath('/data/CellData/train')\n",
    "\n",
    "def imageMerge(imageHash):\n",
    "    imageList = []\n",
    "    for i in range(4):\n",
    "        imageName = imageHash + '_' + imagType[i] + '.png'\n",
    "        imageArray = Image.open(ImagePath + '/' + imageName, cv2.IMREAD_UNCHANGED)\n",
    "        imageList.append(imageArray)\n",
    "    RGBYImage = np.transpose(np.array(imageList), (1, 2, 0))\n",
    "    return RGBYImage"
   ]
  },
  {
   "cell_type": "code",
   "execution_count": 14,
   "id": "sufficient-narrative",
   "metadata": {},
   "outputs": [
    {
     "name": "stdout",
     "output_type": "stream",
     "text": [
      "21806\n"
     ]
    }
   ],
   "source": [
    "N = len(GTList)\n",
    "\n",
    "image2Train = []\n",
    "for i in range(N):\n",
    "    imageHash = GTList['ID'][i]\n",
    "    image2Load = imageMerge(imageHash)\n",
    "    image2Train.append(image2Load)\n",
    "imageArr2Load = np.array(image2Train)\n",
    "print(imageArr2Load.shape)"
   ]
  },
  {
   "cell_type": "code",
   "execution_count": null,
   "id": "identical-determination",
   "metadata": {},
   "outputs": [],
   "source": []
  }
 ],
 "metadata": {
  "kernelspec": {
   "display_name": "Python 3",
   "language": "python",
   "name": "python3"
  },
  "language_info": {
   "codemirror_mode": {
    "name": "ipython",
    "version": 3
   },
   "file_extension": ".py",
   "mimetype": "text/x-python",
   "name": "python",
   "nbconvert_exporter": "python",
   "pygments_lexer": "ipython3",
   "version": "3.6.8"
  }
 },
 "nbformat": 4,
 "nbformat_minor": 5
}
